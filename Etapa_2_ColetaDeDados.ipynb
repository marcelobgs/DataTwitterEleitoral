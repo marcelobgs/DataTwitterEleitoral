{
  "nbformat": 4,
  "nbformat_minor": 0,
  "metadata": {
    "colab": {
      "name": "Etapa 2 - ColetaDeDados.ipynb",
      "provenance": [],
      "authorship_tag": "ABX9TyPR6WsbS+pNhPpPriBlJs3H",
      "include_colab_link": true
    },
    "kernelspec": {
      "name": "python3",
      "display_name": "Python 3"
    },
    "language_info": {
      "name": "python"
    }
  },
  "cells": [
    {
      "cell_type": "markdown",
      "metadata": {
        "id": "view-in-github",
        "colab_type": "text"
      },
      "source": [
        "<a href=\"https://colab.research.google.com/github/marcelobgs/DataTwitterEleitoral/blob/main/Etapa_2_ColetaDeDados.ipynb\" target=\"_parent\"><img src=\"https://colab.research.google.com/assets/colab-badge.svg\" alt=\"Open In Colab\"/></a>"
      ]
    },
    {
      "cell_type": "markdown",
      "source": [
        "###Apresentação do Projeto\n"
      ],
      "metadata": {
        "id": "udaA4K5XV8OZ"
      }
    },
    {
      "cell_type": "code",
      "execution_count": null,
      "metadata": {
        "id": "4Wyf4C3lVZMM"
      },
      "outputs": [],
      "source": [
        "print('Hello World!')"
      ]
    }
  ]
}