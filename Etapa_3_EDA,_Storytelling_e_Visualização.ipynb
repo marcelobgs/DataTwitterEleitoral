{
  "nbformat": 4,
  "nbformat_minor": 0,
  "metadata": {
    "colab": {
      "name": "Etapa 3 - EDA, Storytelling e Visualização.ipynb",
      "provenance": [],
      "authorship_tag": "ABX9TyN5f+0cqECT3n1vw4prASwk",
      "include_colab_link": true
    },
    "kernelspec": {
      "name": "python3",
      "display_name": "Python 3"
    },
    "language_info": {
      "name": "python"
    }
  },
  "cells": [
    {
      "cell_type": "markdown",
      "metadata": {
        "id": "view-in-github",
        "colab_type": "text"
      },
      "source": [
        "<a href=\"https://colab.research.google.com/github/marcelobgs/DataTwitterEleitoral/blob/main/Etapa_3_EDA%2C_Storytelling_e_Visualiza%C3%A7%C3%A3o.ipynb\" target=\"_parent\"><img src=\"https://colab.research.google.com/assets/colab-badge.svg\" alt=\"Open In Colab\"/></a>"
      ]
    },
    {
      "cell_type": "code",
      "execution_count": 1,
      "metadata": {
        "id": "hhi3rFxYVwJK"
      },
      "outputs": [],
      "source": [
        "import pandas as pd\n",
        "import re"
      ]
    },
    {
      "cell_type": "code",
      "source": [
        "dataframe_final_candidatos = pd.read_csv(\"dataframe_final_candidatos.csv\") "
      ],
      "metadata": {
        "id": "6lKxVGXcjCYh"
      },
      "execution_count": 3,
      "outputs": []
    },
    {
      "cell_type": "code",
      "source": [
        "dataframe_final_candidatos.head()"
      ],
      "metadata": {
        "colab": {
          "base_uri": "https://localhost:8080/",
          "height": 250
        },
        "id": "9pWfn-lGjRTD",
        "outputId": "e1278896-2001-4773-eb8f-88ac875831b2"
      },
      "execution_count": 4,
      "outputs": [
        {
          "output_type": "execute_result",
          "data": {
            "text/plain": [
              "                   Data_Hora              IdTweet  \\\n",
              "0  2022-07-30 00:27:15+00:00  1553175352494678016   \n",
              "1  2022-07-30 00:27:15+00:00  1553175351362306049   \n",
              "2  2022-07-30 00:27:13+00:00  1553175343158202368   \n",
              "3  2022-07-30 00:27:12+00:00  1553175342701060101   \n",
              "4  2022-07-30 00:27:12+00:00  1553175342394793985   \n",
              "\n",
              "                                               Tweet Candidato  \n",
              "0  É LULA PRESIDENTE!!\\nBóra subir👆 https://t.co/...      Lula  \n",
              "1  @taoquei1 @AndreJanonesAdv @LulaOficial falou ...      Lula  \n",
              "2  @PrjorgeS @Nilsonhandebol @TANIAMARIAMBAR1 @br...      Lula  \n",
              "3       @galo__vasco @LulaOficial Dá o cool pra ele!      Lula  \n",
              "4  @RoLuchsinger Se @uniaobrasil44 apoiar @LulaOf...      Lula  "
            ],
            "text/html": [
              "\n",
              "  <div id=\"df-79146e51-71c2-4977-821d-3e6f964baecd\">\n",
              "    <div class=\"colab-df-container\">\n",
              "      <div>\n",
              "<style scoped>\n",
              "    .dataframe tbody tr th:only-of-type {\n",
              "        vertical-align: middle;\n",
              "    }\n",
              "\n",
              "    .dataframe tbody tr th {\n",
              "        vertical-align: top;\n",
              "    }\n",
              "\n",
              "    .dataframe thead th {\n",
              "        text-align: right;\n",
              "    }\n",
              "</style>\n",
              "<table border=\"1\" class=\"dataframe\">\n",
              "  <thead>\n",
              "    <tr style=\"text-align: right;\">\n",
              "      <th></th>\n",
              "      <th>Data_Hora</th>\n",
              "      <th>IdTweet</th>\n",
              "      <th>Tweet</th>\n",
              "      <th>Candidato</th>\n",
              "    </tr>\n",
              "  </thead>\n",
              "  <tbody>\n",
              "    <tr>\n",
              "      <th>0</th>\n",
              "      <td>2022-07-30 00:27:15+00:00</td>\n",
              "      <td>1553175352494678016</td>\n",
              "      <td>É LULA PRESIDENTE!!\\nBóra subir👆 https://t.co/...</td>\n",
              "      <td>Lula</td>\n",
              "    </tr>\n",
              "    <tr>\n",
              "      <th>1</th>\n",
              "      <td>2022-07-30 00:27:15+00:00</td>\n",
              "      <td>1553175351362306049</td>\n",
              "      <td>@taoquei1 @AndreJanonesAdv @LulaOficial falou ...</td>\n",
              "      <td>Lula</td>\n",
              "    </tr>\n",
              "    <tr>\n",
              "      <th>2</th>\n",
              "      <td>2022-07-30 00:27:13+00:00</td>\n",
              "      <td>1553175343158202368</td>\n",
              "      <td>@PrjorgeS @Nilsonhandebol @TANIAMARIAMBAR1 @br...</td>\n",
              "      <td>Lula</td>\n",
              "    </tr>\n",
              "    <tr>\n",
              "      <th>3</th>\n",
              "      <td>2022-07-30 00:27:12+00:00</td>\n",
              "      <td>1553175342701060101</td>\n",
              "      <td>@galo__vasco @LulaOficial Dá o cool pra ele!</td>\n",
              "      <td>Lula</td>\n",
              "    </tr>\n",
              "    <tr>\n",
              "      <th>4</th>\n",
              "      <td>2022-07-30 00:27:12+00:00</td>\n",
              "      <td>1553175342394793985</td>\n",
              "      <td>@RoLuchsinger Se @uniaobrasil44 apoiar @LulaOf...</td>\n",
              "      <td>Lula</td>\n",
              "    </tr>\n",
              "  </tbody>\n",
              "</table>\n",
              "</div>\n",
              "      <button class=\"colab-df-convert\" onclick=\"convertToInteractive('df-79146e51-71c2-4977-821d-3e6f964baecd')\"\n",
              "              title=\"Convert this dataframe to an interactive table.\"\n",
              "              style=\"display:none;\">\n",
              "        \n",
              "  <svg xmlns=\"http://www.w3.org/2000/svg\" height=\"24px\"viewBox=\"0 0 24 24\"\n",
              "       width=\"24px\">\n",
              "    <path d=\"M0 0h24v24H0V0z\" fill=\"none\"/>\n",
              "    <path d=\"M18.56 5.44l.94 2.06.94-2.06 2.06-.94-2.06-.94-.94-2.06-.94 2.06-2.06.94zm-11 1L8.5 8.5l.94-2.06 2.06-.94-2.06-.94L8.5 2.5l-.94 2.06-2.06.94zm10 10l.94 2.06.94-2.06 2.06-.94-2.06-.94-.94-2.06-.94 2.06-2.06.94z\"/><path d=\"M17.41 7.96l-1.37-1.37c-.4-.4-.92-.59-1.43-.59-.52 0-1.04.2-1.43.59L10.3 9.45l-7.72 7.72c-.78.78-.78 2.05 0 2.83L4 21.41c.39.39.9.59 1.41.59.51 0 1.02-.2 1.41-.59l7.78-7.78 2.81-2.81c.8-.78.8-2.07 0-2.86zM5.41 20L4 18.59l7.72-7.72 1.47 1.35L5.41 20z\"/>\n",
              "  </svg>\n",
              "      </button>\n",
              "      \n",
              "  <style>\n",
              "    .colab-df-container {\n",
              "      display:flex;\n",
              "      flex-wrap:wrap;\n",
              "      gap: 12px;\n",
              "    }\n",
              "\n",
              "    .colab-df-convert {\n",
              "      background-color: #E8F0FE;\n",
              "      border: none;\n",
              "      border-radius: 50%;\n",
              "      cursor: pointer;\n",
              "      display: none;\n",
              "      fill: #1967D2;\n",
              "      height: 32px;\n",
              "      padding: 0 0 0 0;\n",
              "      width: 32px;\n",
              "    }\n",
              "\n",
              "    .colab-df-convert:hover {\n",
              "      background-color: #E2EBFA;\n",
              "      box-shadow: 0px 1px 2px rgba(60, 64, 67, 0.3), 0px 1px 3px 1px rgba(60, 64, 67, 0.15);\n",
              "      fill: #174EA6;\n",
              "    }\n",
              "\n",
              "    [theme=dark] .colab-df-convert {\n",
              "      background-color: #3B4455;\n",
              "      fill: #D2E3FC;\n",
              "    }\n",
              "\n",
              "    [theme=dark] .colab-df-convert:hover {\n",
              "      background-color: #434B5C;\n",
              "      box-shadow: 0px 1px 3px 1px rgba(0, 0, 0, 0.15);\n",
              "      filter: drop-shadow(0px 1px 2px rgba(0, 0, 0, 0.3));\n",
              "      fill: #FFFFFF;\n",
              "    }\n",
              "  </style>\n",
              "\n",
              "      <script>\n",
              "        const buttonEl =\n",
              "          document.querySelector('#df-79146e51-71c2-4977-821d-3e6f964baecd button.colab-df-convert');\n",
              "        buttonEl.style.display =\n",
              "          google.colab.kernel.accessAllowed ? 'block' : 'none';\n",
              "\n",
              "        async function convertToInteractive(key) {\n",
              "          const element = document.querySelector('#df-79146e51-71c2-4977-821d-3e6f964baecd');\n",
              "          const dataTable =\n",
              "            await google.colab.kernel.invokeFunction('convertToInteractive',\n",
              "                                                     [key], {});\n",
              "          if (!dataTable) return;\n",
              "\n",
              "          const docLinkHtml = 'Like what you see? Visit the ' +\n",
              "            '<a target=\"_blank\" href=https://colab.research.google.com/notebooks/data_table.ipynb>data table notebook</a>'\n",
              "            + ' to learn more about interactive tables.';\n",
              "          element.innerHTML = '';\n",
              "          dataTable['output_type'] = 'display_data';\n",
              "          await google.colab.output.renderOutput(dataTable, element);\n",
              "          const docLink = document.createElement('div');\n",
              "          docLink.innerHTML = docLinkHtml;\n",
              "          element.appendChild(docLink);\n",
              "        }\n",
              "      </script>\n",
              "    </div>\n",
              "  </div>\n",
              "  "
            ]
          },
          "metadata": {},
          "execution_count": 4
        }
      ]
    },
    {
      "cell_type": "code",
      "source": [
        "dataframe_final_candidatos.info()"
      ],
      "metadata": {
        "colab": {
          "base_uri": "https://localhost:8080/"
        },
        "id": "XQM9Ho2-jVLb",
        "outputId": "487466cc-c24c-4878-ff23-8e636d0f1aa3"
      },
      "execution_count": 5,
      "outputs": [
        {
          "output_type": "stream",
          "name": "stdout",
          "text": [
            "<class 'pandas.core.frame.DataFrame'>\n",
            "RangeIndex: 153 entries, 0 to 152\n",
            "Data columns (total 4 columns):\n",
            " #   Column     Non-Null Count  Dtype \n",
            "---  ------     --------------  ----- \n",
            " 0   Data_Hora  153 non-null    object\n",
            " 1   IdTweet    153 non-null    int64 \n",
            " 2   Tweet      153 non-null    object\n",
            " 3   Candidato  153 non-null    object\n",
            "dtypes: int64(1), object(3)\n",
            "memory usage: 4.9+ KB\n"
          ]
        }
      ]
    },
    {
      "cell_type": "code",
      "source": [
        "dataframe_final_candidatos.isnull().sum()"
      ],
      "metadata": {
        "colab": {
          "base_uri": "https://localhost:8080/"
        },
        "id": "obr5fiSjjeFN",
        "outputId": "d74b6c4d-b88f-47f3-fcd4-e38ecf84e4fc"
      },
      "execution_count": 6,
      "outputs": [
        {
          "output_type": "execute_result",
          "data": {
            "text/plain": [
              "Data_Hora    0\n",
              "IdTweet      0\n",
              "Tweet        0\n",
              "Candidato    0\n",
              "dtype: int64"
            ]
          },
          "metadata": {},
          "execution_count": 6
        }
      ]
    },
    {
      "cell_type": "code",
      "source": [
        "dataframe_final_candidatos['Tweet_limpo'] = dataframe_final_candidatos['Tweet']"
      ],
      "metadata": {
        "id": "lJXtNcvHjiQz"
      },
      "execution_count": 7,
      "outputs": []
    },
    {
      "cell_type": "code",
      "source": [
        "def limpeza_do_texto(tweet):\n",
        "  tweet = tweet.lower()\n",
        "  tweet = re.sub('\\n', '', tweet)\n",
        "  tweet = re.sub('@[^\\s]+', '', tweet)\n",
        "  tweet = re.sub('\\B#\\S+', '', tweet)\n",
        "  tweet = re.sub('https?://\\S+|www\\.\\S+', '', tweet)\n",
        "  return tweet"
      ],
      "metadata": {
        "id": "L5MRESE3jxWX"
      },
      "execution_count": 8,
      "outputs": []
    },
    {
      "cell_type": "code",
      "source": [
        "dataframe_final_candidatos['Tweet_limpo'] = dataframe_final_candidatos['Tweet'].apply(lambda i:limpeza_do_texto(i))"
      ],
      "metadata": {
        "id": "UfF_6qsLkiVO"
      },
      "execution_count": 9,
      "outputs": []
    },
    {
      "cell_type": "code",
      "source": [
        "dataframe_final_candidatos.head()"
      ],
      "metadata": {
        "colab": {
          "base_uri": "https://localhost:8080/",
          "height": 337
        },
        "id": "8_0YWfSXjR2a",
        "outputId": "e2a6c359-9855-4170-8e60-56344fd36d46"
      },
      "execution_count": 11,
      "outputs": [
        {
          "output_type": "execute_result",
          "data": {
            "text/plain": [
              "                   Data_Hora              IdTweet  \\\n",
              "0  2022-07-30 00:27:15+00:00  1553175352494678016   \n",
              "1  2022-07-30 00:27:15+00:00  1553175351362306049   \n",
              "2  2022-07-30 00:27:13+00:00  1553175343158202368   \n",
              "3  2022-07-30 00:27:12+00:00  1553175342701060101   \n",
              "4  2022-07-30 00:27:12+00:00  1553175342394793985   \n",
              "\n",
              "                                               Tweet Candidato  \\\n",
              "0  É LULA PRESIDENTE!!\\nBóra subir👆 https://t.co/...      Lula   \n",
              "1  @taoquei1 @AndreJanonesAdv @LulaOficial falou ...      Lula   \n",
              "2  @PrjorgeS @Nilsonhandebol @TANIAMARIAMBAR1 @br...      Lula   \n",
              "3       @galo__vasco @LulaOficial Dá o cool pra ele!      Lula   \n",
              "4  @RoLuchsinger Se @uniaobrasil44 apoiar @LulaOf...      Lula   \n",
              "\n",
              "                                         Tweet_limpo  \n",
              "0                    é lula presidente!!bóra subir👆   \n",
              "1     falou a bolsonarista de costumes, aonde de ...  \n",
              "2                para conseguir meus seguidores e...  \n",
              "3                                 dá o cool pra ele!  \n",
              "4   se  apoiar  o então ex juiz e ex ministro do ...  "
            ],
            "text/html": [
              "\n",
              "  <div id=\"df-6cce3d36-3d8d-4a3e-be99-bcfd03c70581\">\n",
              "    <div class=\"colab-df-container\">\n",
              "      <div>\n",
              "<style scoped>\n",
              "    .dataframe tbody tr th:only-of-type {\n",
              "        vertical-align: middle;\n",
              "    }\n",
              "\n",
              "    .dataframe tbody tr th {\n",
              "        vertical-align: top;\n",
              "    }\n",
              "\n",
              "    .dataframe thead th {\n",
              "        text-align: right;\n",
              "    }\n",
              "</style>\n",
              "<table border=\"1\" class=\"dataframe\">\n",
              "  <thead>\n",
              "    <tr style=\"text-align: right;\">\n",
              "      <th></th>\n",
              "      <th>Data_Hora</th>\n",
              "      <th>IdTweet</th>\n",
              "      <th>Tweet</th>\n",
              "      <th>Candidato</th>\n",
              "      <th>Tweet_limpo</th>\n",
              "    </tr>\n",
              "  </thead>\n",
              "  <tbody>\n",
              "    <tr>\n",
              "      <th>0</th>\n",
              "      <td>2022-07-30 00:27:15+00:00</td>\n",
              "      <td>1553175352494678016</td>\n",
              "      <td>É LULA PRESIDENTE!!\\nBóra subir👆 https://t.co/...</td>\n",
              "      <td>Lula</td>\n",
              "      <td>é lula presidente!!bóra subir👆</td>\n",
              "    </tr>\n",
              "    <tr>\n",
              "      <th>1</th>\n",
              "      <td>2022-07-30 00:27:15+00:00</td>\n",
              "      <td>1553175351362306049</td>\n",
              "      <td>@taoquei1 @AndreJanonesAdv @LulaOficial falou ...</td>\n",
              "      <td>Lula</td>\n",
              "      <td>falou a bolsonarista de costumes, aonde de ...</td>\n",
              "    </tr>\n",
              "    <tr>\n",
              "      <th>2</th>\n",
              "      <td>2022-07-30 00:27:13+00:00</td>\n",
              "      <td>1553175343158202368</td>\n",
              "      <td>@PrjorgeS @Nilsonhandebol @TANIAMARIAMBAR1 @br...</td>\n",
              "      <td>Lula</td>\n",
              "      <td>para conseguir meus seguidores e...</td>\n",
              "    </tr>\n",
              "    <tr>\n",
              "      <th>3</th>\n",
              "      <td>2022-07-30 00:27:12+00:00</td>\n",
              "      <td>1553175342701060101</td>\n",
              "      <td>@galo__vasco @LulaOficial Dá o cool pra ele!</td>\n",
              "      <td>Lula</td>\n",
              "      <td>dá o cool pra ele!</td>\n",
              "    </tr>\n",
              "    <tr>\n",
              "      <th>4</th>\n",
              "      <td>2022-07-30 00:27:12+00:00</td>\n",
              "      <td>1553175342394793985</td>\n",
              "      <td>@RoLuchsinger Se @uniaobrasil44 apoiar @LulaOf...</td>\n",
              "      <td>Lula</td>\n",
              "      <td>se  apoiar  o então ex juiz e ex ministro do ...</td>\n",
              "    </tr>\n",
              "  </tbody>\n",
              "</table>\n",
              "</div>\n",
              "      <button class=\"colab-df-convert\" onclick=\"convertToInteractive('df-6cce3d36-3d8d-4a3e-be99-bcfd03c70581')\"\n",
              "              title=\"Convert this dataframe to an interactive table.\"\n",
              "              style=\"display:none;\">\n",
              "        \n",
              "  <svg xmlns=\"http://www.w3.org/2000/svg\" height=\"24px\"viewBox=\"0 0 24 24\"\n",
              "       width=\"24px\">\n",
              "    <path d=\"M0 0h24v24H0V0z\" fill=\"none\"/>\n",
              "    <path d=\"M18.56 5.44l.94 2.06.94-2.06 2.06-.94-2.06-.94-.94-2.06-.94 2.06-2.06.94zm-11 1L8.5 8.5l.94-2.06 2.06-.94-2.06-.94L8.5 2.5l-.94 2.06-2.06.94zm10 10l.94 2.06.94-2.06 2.06-.94-2.06-.94-.94-2.06-.94 2.06-2.06.94z\"/><path d=\"M17.41 7.96l-1.37-1.37c-.4-.4-.92-.59-1.43-.59-.52 0-1.04.2-1.43.59L10.3 9.45l-7.72 7.72c-.78.78-.78 2.05 0 2.83L4 21.41c.39.39.9.59 1.41.59.51 0 1.02-.2 1.41-.59l7.78-7.78 2.81-2.81c.8-.78.8-2.07 0-2.86zM5.41 20L4 18.59l7.72-7.72 1.47 1.35L5.41 20z\"/>\n",
              "  </svg>\n",
              "      </button>\n",
              "      \n",
              "  <style>\n",
              "    .colab-df-container {\n",
              "      display:flex;\n",
              "      flex-wrap:wrap;\n",
              "      gap: 12px;\n",
              "    }\n",
              "\n",
              "    .colab-df-convert {\n",
              "      background-color: #E8F0FE;\n",
              "      border: none;\n",
              "      border-radius: 50%;\n",
              "      cursor: pointer;\n",
              "      display: none;\n",
              "      fill: #1967D2;\n",
              "      height: 32px;\n",
              "      padding: 0 0 0 0;\n",
              "      width: 32px;\n",
              "    }\n",
              "\n",
              "    .colab-df-convert:hover {\n",
              "      background-color: #E2EBFA;\n",
              "      box-shadow: 0px 1px 2px rgba(60, 64, 67, 0.3), 0px 1px 3px 1px rgba(60, 64, 67, 0.15);\n",
              "      fill: #174EA6;\n",
              "    }\n",
              "\n",
              "    [theme=dark] .colab-df-convert {\n",
              "      background-color: #3B4455;\n",
              "      fill: #D2E3FC;\n",
              "    }\n",
              "\n",
              "    [theme=dark] .colab-df-convert:hover {\n",
              "      background-color: #434B5C;\n",
              "      box-shadow: 0px 1px 3px 1px rgba(0, 0, 0, 0.15);\n",
              "      filter: drop-shadow(0px 1px 2px rgba(0, 0, 0, 0.3));\n",
              "      fill: #FFFFFF;\n",
              "    }\n",
              "  </style>\n",
              "\n",
              "      <script>\n",
              "        const buttonEl =\n",
              "          document.querySelector('#df-6cce3d36-3d8d-4a3e-be99-bcfd03c70581 button.colab-df-convert');\n",
              "        buttonEl.style.display =\n",
              "          google.colab.kernel.accessAllowed ? 'block' : 'none';\n",
              "\n",
              "        async function convertToInteractive(key) {\n",
              "          const element = document.querySelector('#df-6cce3d36-3d8d-4a3e-be99-bcfd03c70581');\n",
              "          const dataTable =\n",
              "            await google.colab.kernel.invokeFunction('convertToInteractive',\n",
              "                                                     [key], {});\n",
              "          if (!dataTable) return;\n",
              "\n",
              "          const docLinkHtml = 'Like what you see? Visit the ' +\n",
              "            '<a target=\"_blank\" href=https://colab.research.google.com/notebooks/data_table.ipynb>data table notebook</a>'\n",
              "            + ' to learn more about interactive tables.';\n",
              "          element.innerHTML = '';\n",
              "          dataTable['output_type'] = 'display_data';\n",
              "          await google.colab.output.renderOutput(dataTable, element);\n",
              "          const docLink = document.createElement('div');\n",
              "          docLink.innerHTML = docLinkHtml;\n",
              "          element.appendChild(docLink);\n",
              "        }\n",
              "      </script>\n",
              "    </div>\n",
              "  </div>\n",
              "  "
            ]
          },
          "metadata": {},
          "execution_count": 11
        }
      ]
    },
    {
      "cell_type": "code",
      "source": [
        "dataframe_final_candidatos.to_csv('dataframe_final_candidatos_pronto_para_sentimento.csv', sep =',', index = False)"
      ],
      "metadata": {
        "id": "Q7QSji1PkjjM"
      },
      "execution_count": 12,
      "outputs": []
    }
  ]
}